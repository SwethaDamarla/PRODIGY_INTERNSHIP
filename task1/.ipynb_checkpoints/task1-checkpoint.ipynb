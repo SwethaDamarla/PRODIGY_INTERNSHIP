{
 "cells": [
  {
   "cell_type": "code",
   "execution_count": null,
   "metadata": {},
   "outputs": [],
   "source": [
    "import pandas as pd\n",
    "import matplotlib.pyplot as plt\n",
    "import seaborn as sns\n",
    "\n",
    "# Load the main dataset\n",
    "file_path = r'C:\\Users\\LENOVO\\OneDrive\\Desktop\\prodigy\\task1\\API_SP.POP.TOTL_DS2_en_csv_v2_323533.csv'\n",
    "data = pd.read_csv(file_path, skiprows=4)\n",
    "\n",
    "# Display the first few rows of the dataset\n",
    "print(data.head())\n",
    "\n",
    "# Display summary statistics\n",
    "print(data.describe())\n",
    "\n",
    "# Display information about the dataset\n",
    "print(data.info())\n",
    "\n",
    "# Filter data for the year 2020\n",
    "data_2020 = data[['Country Name', '2020']].dropna()\n",
    "\n",
    "# Sort data by population in descending order and select the top 10 countries\n",
    "top10_countries = data_2020.sort_values(by='2020', ascending=False).head(10)\n",
    "\n",
    "# Create a bar chart\n",
    "plt.figure(figsize=(10, 6))\n",
    "sns.barplot(x='2020', y='Country Name', data=top10_countries, palette='viridis')\n",
    "plt.xlabel('Population in 2020')\n",
    "plt.ylabel('Country')\n",
    "plt.title('Top 10 Countries by Population in 2020')\n",
    "plt.show()\n",
    "\n",
    "# Plot histogram of the population in 2020\n",
    "plt.figure(figsize=(10, 6))\n",
    "sns.histplot(data_2020['2020'], bins=30, kde=True)\n",
    "plt.xlabel('Population in 2020')\n",
    "plt.ylabel('Frequency')\n",
    "plt.title('Distribution of Population Sizes in 2020')\n",
    "plt.show()\n"
   ]
  }
 ],
 "metadata": {
  "language_info": {
   "name": "python"
  }
 },
 "nbformat": 4,
 "nbformat_minor": 2
}
